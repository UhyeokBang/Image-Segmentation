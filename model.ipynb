{
  "cells": [
    {
      "cell_type": "code",
      "execution_count": 7,
      "metadata": {},
      "outputs": [],
      "source": [
        "from model import UNet, DeepLabV3Plus, HRNet\n",
        "\n",
        "import os\n",
        "\n",
        "import numpy as np\n",
        "import torch\n",
        "import torch.nn as nn\n",
        "from torch.utils.data import TensorDataset, DataLoader"
      ]
    },
    {
      "cell_type": "code",
      "execution_count": 9,
      "metadata": {},
      "outputs": [],
      "source": [
        "def load_dataset():\n",
        "    pass"
      ]
    },
    {
      "cell_type": "code",
      "execution_count": null,
      "metadata": {},
      "outputs": [],
      "source": [
        "num_epoch = 10\n",
        "output_dir_path = \"./\""
      ]
    },
    {
      "cell_type": "code",
      "execution_count": null,
      "metadata": {},
      "outputs": [],
      "source": [
        "  # 저장된 모델 가중치 로드\n",
        "  #model.load_state_dict(torch.load(os.path.join(config[\"output_dir\"], config[\"model_name\"]))"
      ]
    },
    {
      "cell_type": "code",
      "execution_count": 12,
      "metadata": {},
      "outputs": [],
      "source": [
        "def train(model): \n",
        "    (train_x, train_y) = load_dataset()\n",
        "\n",
        "    dataset = TensorDataset(train_x, train_y)\n",
        "    dataloader = DataLoader(dataset, batch_size=32, shuffle=True) \n",
        "\n",
        "    loss_func = nn.CrossEntropyLoss()\n",
        "    optimizer = torch.optim.Adam(model.parameters(), lr=0.01) \n",
        "\n",
        "    for epoch in range(num_epoch):\n",
        "        model.train()\n",
        "\n",
        "        costs = []\n",
        "        \n",
        "        for batch in dataloader:\n",
        "            input, label = batch\n",
        "            \n",
        "            hypothesis = model(input)\n",
        " \n",
        "            cost = loss_func(hypothesis, label)\n",
        "\n",
        "            optimizer.zero_grad()\n",
        "            cost.backward()\n",
        "            optimizer.step()\n",
        "\n",
        "            costs.append(cost.item())\n",
        "\n",
        "        print(\"{0}/{1} : {2}\".format(epoch, num_epoch, np.mean(costs)))\n",
        "        \n",
        "        torch.save(model.state_dict(), os.path.join(output_dir_path, \"epoch_{0:d}.pt\".format(epoch + 1)))\n"
      ]
    },
    {
      "cell_type": "code",
      "execution_count": null,
      "metadata": {},
      "outputs": [],
      "source": [
        "model1 = train(UNet())\n",
        "model2 = train(DeepLabV3Plus())\n",
        "model3 = train(HRNet())"
      ]
    }
  ],
  "metadata": {
    "colab": {
      "provenance": []
    },
    "kernelspec": {
      "display_name": "Python 3",
      "name": "python3"
    },
    "language_info": {
      "codemirror_mode": {
        "name": "ipython",
        "version": 3
      },
      "file_extension": ".py",
      "mimetype": "text/x-python",
      "name": "python",
      "nbconvert_exporter": "python",
      "pygments_lexer": "ipython3",
      "version": "3.11.5"
    }
  },
  "nbformat": 4,
  "nbformat_minor": 0
}
