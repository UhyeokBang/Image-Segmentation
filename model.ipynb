{
  "cells": [
    {
      "cell_type": "code",
      "execution_count": 2,
      "metadata": {},
      "outputs": [],
      "source": [
        "from model.UNet import UNet\n",
        "from model.DeepLabV3Plus import DeepLabV3Plus\n",
        "from model.HRNetV2 import HRNetV2\n",
        "\n",
        "import os\n",
        "\n",
        "from tqdm import tqdm\n",
        "from IPython.display import clear_output\n",
        "\n",
        "import numpy as np\n",
        "import torch\n",
        "import torch.nn as nn\n",
        "from torchvision import transforms\n",
        "import torchvision.transforms.functional as TF\n",
        "from torch.utils.data import Dataset, DataLoader\n",
        "\n",
        "import ssl\n",
        "ssl._create_default_https_context = ssl._create_unverified_context"
      ]
    },
    {
      "cell_type": "code",
      "execution_count": 4,
      "metadata": {},
      "outputs": [
        {
          "name": "stdout",
          "output_type": "stream",
          "text": [
            "cuda\n"
          ]
        }
      ],
      "source": [
        "device = torch.device('cuda' if torch.cuda.is_available() else 'cpu')\n",
        "\n",
        "print(device)"
      ]
    },
    {
      "cell_type": "code",
      "execution_count": 5,
      "metadata": {},
      "outputs": [],
      "source": [
        "import cv2\n",
        "\n",
        "import random\n",
        "\n",
        "class SegmentationDataset(Dataset):\n",
        "  def __init__(self, data_type, mode):    \n",
        "    self.mode = mode\n",
        "    self.input, self.label = [], []\n",
        "\n",
        "    # 작업할 폴더의 경로\n",
        "    path = './dataset/{0}s'.format(data_type) \n",
        "\n",
        "    self.input_path = '{0}/{1}/{2}'.format(path, self.mode, \"data\")\n",
        "    self.label_path = '{0}/{1}/{2}'.format(path, self.mode, \"label\")\n",
        "\n",
        "    # 폴더 안에 있는 데이터 파일들의 이름을 추출\n",
        "    data_names = [name.split('.')[0] for name in os.listdir(self.input_path)]\n",
        "\n",
        "    # 데이터 전처리\n",
        "    for data_name in data_names:\n",
        "        input_path = '{0}/{1}.png'.format(self.input_path, data_name)\n",
        "        label_path = '{0}/{1}.png'.format(self.label_path, data_name)\n",
        "\n",
        "        input = cv2.cvtColor(cv2.imread(input_path), cv2.COLOR_BGR2RGB)\n",
        "        label = cv2.imread(label_path, cv2.IMREAD_GRAYSCALE)\n",
        "\n",
        "        input = torch.FloatTensor(input).permute(2, 0, 1)\n",
        "        label = torch.LongTensor(label)\n",
        "\n",
        "        self.input.append(input)\n",
        "        self.label.append(label)\n",
        "\n",
        "  def __len__(self):\n",
        "    return len(self.input)\n",
        "\n",
        "  def __getitem__(self, index):\n",
        "    input = self.input[index]\n",
        "    label = self.label[index]\n",
        "\n",
        "    i, j, h, w = transforms.RandomCrop.get_params(input, output_size=(512, 512))\n",
        "\n",
        "    input = TF.crop(input, i, j, h, w)\n",
        "    label = TF.crop(label, i, j, h, w)\n",
        "\n",
        "    # Random horizontal flipping\n",
        "    if random.random() > 0.5:\n",
        "        input = TF.hflip(input)\n",
        "        label = TF.hflip(label)\n",
        "\n",
        "    # Random vertical flipping\n",
        "    if random.random() > 0.5:\n",
        "        input = TF.vflip(input)\n",
        "        label = TF.vflip(label)\n",
        "\n",
        "    return input, label"
      ]
    },
    {
      "cell_type": "code",
      "execution_count": 5,
      "metadata": {},
      "outputs": [],
      "source": [
        "train_dataset   = SegmentationDataset('building', 'train')\n",
        "test_dataset    = SegmentationDataset('building', 'test')\n",
        "\n",
        "#train_dataset   = SegmentationDataset('building', 'train')\n",
        "#test_dataset    = SegmentationDataset('building', 'test')"
      ]
    },
    {
      "cell_type": "code",
      "execution_count": 6,
      "metadata": {},
      "outputs": [],
      "source": [
        "from sklearn.metrics import accuracy_score, f1_score\n",
        "\n",
        "def evaluate(model, dataloader):\n",
        "  \n",
        "  model.eval()\n",
        "\n",
        "  predvs, labels = [], []\n",
        "\n",
        "  with torch.no_grad():\n",
        "    for batch in tqdm(dataloader, desc=\"Test Processed\"):\n",
        "        input, label = batch\n",
        "\n",
        "        input = input.to(device)\n",
        "\n",
        "        hypothesis = model(input)\n",
        "\n",
        "        predv = torch.argmax(hypothesis, dim=1).cpu()\n",
        "\n",
        "        predvs.extend(predv.numpy().ravel())\n",
        "        labels.extend(label.numpy().ravel())\n",
        "\n",
        "    print(\"Accuracy - {0:f}\\n\".format(accuracy_score(labels, predvs)))\n",
        "    print(\"F1 Score - {0:f}\\n\".format(f1_score(labels, predvs)))"
      ]
    },
    {
      "cell_type": "code",
      "execution_count": 14,
      "metadata": {},
      "outputs": [],
      "source": [
        "trained_model_path = \"./trained\"\n",
        "\n",
        "def train(model, dataset, num_epoch = 10, lr=0.001):\n",
        "    dataloader = DataLoader(dataset, batch_size=4, shuffle=True) \n",
        "\n",
        "    loss_func = nn.CrossEntropyLoss()\n",
        "    optimizer = torch.optim.Adam(model.parameters(), lr=lr)\n",
        "\n",
        "    for epoch in range(num_epoch):\n",
        "        print(\"# | Epoch - {0:03d} / {1:03d} | #\".format(epoch + 1, num_epoch))\n",
        "        print(\"=========================\")\n",
        "        \n",
        "        model.train()\n",
        "        \n",
        "        costs = []\n",
        "\n",
        "        for batch in tqdm(dataloader, desc=\"Batch Processed\"):\n",
        "            input, label = batch\n",
        "\n",
        "            input = input.to(device)\n",
        "            label = label.to(device)\n",
        "\n",
        "            optimizer.zero_grad()\n",
        "\n",
        "            hypothesis = model(input)\n",
        "            \n",
        "\n",
        "            cost = loss_func(hypothesis, label)\n",
        "\n",
        "            cost.backward()\n",
        "            optimizer.step()\n",
        "\n",
        "            costs.append(cost.item())\n",
        "\n",
        "        print(\"Current Average Loss - {0:f}\".format(np.mean(costs)))\n",
        "\n",
        "        if (epoch + 1) % 1 == 0:\n",
        "            path = \"{0}/{1}/epoch_{2:05d}.pt\".format(trained_model_path, model.__class__.__name__, epoch + 1)\n",
        "            \n",
        "            torch.save(model.state_dict(), path)\n",
        "\n",
        "            print(\"모델 파일({0}) 저장됨\\n\".format(path))\n",
        "        \n",
        "        #evaluate(model, dataloader)"
      ]
    },
    {
      "cell_type": "code",
      "execution_count": 11,
      "metadata": {},
      "outputs": [],
      "source": [
        "def load_trained_model(model : nn.Module, epoch):\n",
        "    model.load_state_dict(torch.load('{0}/{1}/epoch_{2:05d}.pt'.format(trained_model_path, model.__class__.__name__, epoch)))"
      ]
    },
    {
      "cell_type": "code",
      "execution_count": null,
      "metadata": {},
      "outputs": [],
      "source": [
        "num_epoch = 100\n",
        "\n",
        "#model1 = UNet().to(device)\n",
        "#train(model1, train_dataset, num_epoch)\n",
        "\n",
        "#model2 = DeepLabV3Plus(num_classes=2).to(device)\n",
        "#load_trained_model(model2, 20)\n",
        "\n",
        "#train(model2, train_dataset, num_epoch)\n",
        "\n",
        "model3 = HRNetV2(num_classes=2).to(device)\n",
        "train(model3, train_dataset, num_epoch)"
      ]
    },
    {
      "cell_type": "code",
      "execution_count": null,
      "metadata": {},
      "outputs": [],
      "source": [
        "#cv2.imshow(\"predicted\", torch.argmax(hypothesis, dim=1).cpu().detach().numpy()[0,:,:].astype(np.uint8) * 255)\n",
        "#cv2.imshow(\"label\", label.cpu().detach().numpy()[0,:,:].astype(np.uint8) * 255)\n",
        "\n",
        "#cv2.waitKey(0)\n",
        "#cv2.destroyAllWindows()"
      ]
    }
  ],
  "metadata": {
    "colab": {
      "provenance": []
    },
    "kernelspec": {
      "display_name": "Python 3",
      "name": "python3"
    },
    "language_info": {
      "codemirror_mode": {
        "name": "ipython",
        "version": 3
      },
      "file_extension": ".py",
      "mimetype": "text/x-python",
      "name": "python",
      "nbconvert_exporter": "python",
      "pygments_lexer": "ipython3",
      "version": "3.9.18"
    }
  },
  "nbformat": 4,
  "nbformat_minor": 0
}
