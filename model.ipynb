{
  "cells": [
    {
      "cell_type": "code",
      "execution_count": 1,
      "metadata": {},
      "outputs": [],
      "source": [
        "from model.UNet import UNet\n",
        "from model.DeepLabV3Plus import DeepLabV3Plus\n",
        "from model.HRNetV2 import HRNetV2\n",
        "from model.AttentionUNet import AttentionUNet\n",
        "\n",
        "import os, gc\n",
        "\n",
        "from tqdm import tqdm\n",
        "\n",
        "import numpy as np\n",
        "import torch\n",
        "import torch.nn as nn\n",
        "from torchvision import transforms\n",
        "from torchvision.transforms import InterpolationMode\n",
        "import torchvision.transforms.functional as TF\n",
        "from torch.utils.data import Dataset, DataLoader\n",
        "\n",
        "import ssl\n",
        "ssl._create_default_https_context = ssl._create_unverified_context"
      ]
    },
    {
      "cell_type": "code",
      "execution_count": 2,
      "metadata": {},
      "outputs": [
        {
          "name": "stdout",
          "output_type": "stream",
          "text": [
            "cuda\n"
          ]
        }
      ],
      "source": [
        "device = torch.device('cuda' if torch.cuda.is_available() else 'cpu')\n",
        "\n",
        "print(device)"
      ]
    },
    {
      "cell_type": "code",
      "execution_count": 3,
      "metadata": {},
      "outputs": [],
      "source": [
        "import cv2\n",
        "\n",
        "import random\n",
        "\n",
        "class SegmentationDataset(Dataset):\n",
        "  def __init__(self, data_type, mode):    \n",
        "    self.mode = mode\n",
        "    self.input, self.label = [], []\n",
        "\n",
        "    # 작업할 폴더의 경로\n",
        "    path = './dataset/{0}s'.format(data_type) \n",
        "\n",
        "    self.input_path = '{0}/{1}/{2}'.format(path, self.mode, \"data\")\n",
        "    self.label_path = '{0}/{1}/{2}'.format(path, self.mode, \"label\")\n",
        "\n",
        "    # 폴더 안에 있는 데이터 파일들의 이름을 추출\n",
        "    data_names = [name.split('.')[0] for name in os.listdir(self.input_path)]\n",
        "\n",
        "    # 데이터 전처리\n",
        "    for data_name in data_names:\n",
        "        input = '{0}/{1}.tif'.format(self.input_path, data_name)\n",
        "        label = '{0}/{1}.tif'.format(self.label_path, data_name[:-4] + \"FGT_1024\")\n",
        "\n",
        "        self.input.append(input)\n",
        "        self.label.append(label)\n",
        "\n",
        "  def __len__(self):\n",
        "    return len(self.input)\n",
        "\n",
        "  def __getitem__(self, index):\n",
        "    input = self.input[index]\n",
        "    label = self.label[index]\n",
        "    \n",
        "    # 이미지 데이터 불러오기\n",
        "    input = cv2.imread(input)\n",
        "    label = cv2.imread(label, cv2.IMREAD_GRAYSCALE)\n",
        "    \n",
        "    # 토지 피복지도 항공위성 이미지(수도권)에서 라벨링이 10씩 곱해져있으므로 나눠줌\n",
        "    label[label == 100] = 0\n",
        "  \n",
        "    label //= 10\n",
        "\n",
        "    # 이미지 데이터를 텐서로 변환\n",
        "    input = torch.FloatTensor(input).permute(2, 0, 1)\n",
        "    label = torch.LongTensor(label).unsqueeze(dim=0) \n",
        "\n",
        "    # 데이터 증강 적용    \n",
        "    params = transforms.RandomResizedCrop.get_params(input, scale=(0.5, 0.5), ratio=(3.0 / 4.0, 4.0 / 3.0))\n",
        "\n",
        "    input = TF.resized_crop(input, *params, size=(512, 512), interpolation=InterpolationMode.BILINEAR)\n",
        "    label = TF.resized_crop(label, *params, size=(512, 512), interpolation=InterpolationMode.NEAREST)\n",
        "\n",
        "    label = label.squeeze(dim=0)\n",
        "\n",
        "    # 좌우 뒤집기\n",
        "    if random.random() > 0.5:\n",
        "        input = TF.hflip(input)\n",
        "        label = TF.hflip(label)\n",
        "\n",
        "    # 상하 뒤집기\n",
        "    if random.random() > 0.5:\n",
        "        input = TF.vflip(input)\n",
        "        label = TF.vflip(label)\n",
        "\n",
        "    return input, label"
      ]
    },
    {
      "cell_type": "code",
      "execution_count": 4,
      "metadata": {},
      "outputs": [],
      "source": [
        "train_dataset   = SegmentationDataset('all', 'train')\n",
        "test_dataset    = SegmentationDataset('all', 'test')"
      ]
    },
    {
      "cell_type": "code",
      "execution_count": 5,
      "metadata": {},
      "outputs": [],
      "source": [
        "from sklearn.metrics import accuracy_score, f1_score\n",
        "\n",
        "def evaluate(model, dataloader):\n",
        "  \n",
        "  model.eval()\n",
        "\n",
        "  predvs, labels = [], []\n",
        "\n",
        "  with torch.no_grad():\n",
        "    for batch in tqdm(dataloader, desc=\"Test Processed\"):\n",
        "        input, label = batch\n",
        "\n",
        "        input = input.to(device)\n",
        "\n",
        "        hypothesis = model(input)\n",
        "\n",
        "        predv = torch.argmax(hypothesis, dim=1).cpu()\n",
        "\n",
        "        # mIoU 계산\n",
        "        \n",
        "\n",
        "        #predvs.extend(predv.numpy().ravel())\n",
        "        #labels.extend(label.numpy().ravel())\n",
        "\n",
        "    #print(\"Accuracy - {0:f}\\n\".format(accuracy_score(labels, predvs)))\n",
        "    #print(\"F1 Score - {0:f}\\n\".format(f1_score(labels, predvs)))"
      ]
    },
    {
      "cell_type": "code",
      "execution_count": 6,
      "metadata": {},
      "outputs": [],
      "source": [
        "trained_model_path = \"./trained\"\n",
        "\n",
        "def train(model : nn.Module, dataset, num_epoch = 10, lr=0.001):\n",
        "    if not hasattr(model, \"current_epoch\"): model.current_epoch = 0\n",
        "\n",
        "    dataloader = DataLoader(dataset, batch_size=8, shuffle=True) \n",
        "\n",
        "    loss_func = nn.CrossEntropyLoss()\n",
        "    optimizer = torch.optim.Adam(model.parameters(), lr=lr)\n",
        "\n",
        "    for epoch in range(model.current_epoch, model.current_epoch + num_epoch):\n",
        "        print(\"# | Epoch - {0:03d} / {1:03d} | #\".format(epoch + 1, model.current_epoch + num_epoch))\n",
        "        print(\"=========================\")\n",
        "        \n",
        "        model.train()\n",
        "        \n",
        "        costs = []\n",
        "        \n",
        "        # 학습 진행\n",
        "        for batch in tqdm(dataloader, desc=\"Batch Processed\"):\n",
        "            input, label = batch\n",
        "\n",
        "            input = input.to(device)\n",
        "            label = label.to(device)\n",
        "\n",
        "            optimizer.zero_grad()\n",
        "\n",
        "            hypothesis = model(input)\n",
        "            \n",
        "            cost = loss_func(hypothesis, label)\n",
        "\n",
        "            cost.backward()\n",
        "            optimizer.step()\n",
        "\n",
        "            costs.append(cost.item())\n",
        "\n",
        "        print('Current Average Loss - {0:f}'.format(np.mean(costs)))\n",
        "\n",
        "        # Loss를 분석하기 위해 저장\n",
        "        with open(\"{0}/{1}/log.txt\".format(trained_model_path, model.__class__.__name__), 'a+') as file:\n",
        "            file.write('Epoch #{0:05d} Average Loss - {1:f}\\n'.format(epoch + 1, np.mean(costs)))\n",
        "\n",
        "        # 모델 파일 저장\n",
        "        if (epoch + 1) % 5 == 0:\n",
        "            path = \"{0}/{1}/epoch_{2:05d}.pt\".format(trained_model_path, model.__class__.__name__, epoch + 1)\n",
        "            \n",
        "            torch.save(model.state_dict(), path)\n",
        "\n",
        "            print(\"모델 파일({0}) 저장됨\\n\".format(path))\n",
        "        \n",
        "        #evaluate(model, dataloader)\n",
        "    \n",
        "    torch.cuda.empty_cache()\n",
        "    gc.collect()"
      ]
    },
    {
      "cell_type": "code",
      "execution_count": 7,
      "metadata": {},
      "outputs": [],
      "source": [
        "def load_trained_model(model : nn.Module, epoch):\n",
        "    model.load_state_dict(torch.load('{0}/{1}/epoch_{2:05d}.pt'.format(trained_model_path, model.__class__.__name__, epoch)))\n",
        "\n",
        "    model.current_epoch = epoch"
      ]
    },
    {
      "cell_type": "code",
      "execution_count": 8,
      "metadata": {},
      "outputs": [
        {
          "name": "stdout",
          "output_type": "stream",
          "text": [
            "# | Epoch - 001 / 100 | #\n",
            "=========================\n"
          ]
        },
        {
          "name": "stderr",
          "output_type": "stream",
          "text": [
            "Batch Processed: 100%|██████████| 330/330 [01:51<00:00,  2.97it/s]\n"
          ]
        },
        {
          "name": "stdout",
          "output_type": "stream",
          "text": [
            "Current Average Loss - 1.071244\n",
            "# | Epoch - 002 / 100 | #\n",
            "=========================\n"
          ]
        },
        {
          "name": "stderr",
          "output_type": "stream",
          "text": [
            "Batch Processed:  43%|████▎     | 142/330 [00:47<01:03,  2.96it/s]"
          ]
        }
      ],
      "source": [
        "num_classes = 9\n",
        "num_epoch = 100\n",
        "\n",
        "torch.cuda.empty_cache()\n",
        "gc.collect()\n",
        "\n",
        "#model1 = UNet(num_classes=num_classes).to(device)\n",
        "#train(model1, train_dataset, num_epoch)\n",
        "\n",
        "#model2 = DeepLabV3Plus(num_classes=num_classes).to(device)\n",
        "#train(model2, train_dataset, num_epoch)\n",
        "\n",
        "model3 = HRNetV2(num_classes=num_classes).to(device)\n",
        "train(model3, train_dataset, num_epoch)\n",
        "\n",
        "#model4 = AttentionUNet(num_classes=num_classes).to(device)\n",
        "#train(model4, train_dataset, num_epoch)"
      ]
    },
    {
      "cell_type": "code",
      "execution_count": null,
      "metadata": {},
      "outputs": [],
      "source": [
        "model1 = UNet(num_classes=num_classes).to(device)\n",
        "model2 = DeepLabV3Plus(num_classes=num_classes).to(device)\n",
        "model3 = HRNetV2(num_classes=num_classes).to(device)\n",
        "\n",
        "load_trained_model(model1, 100)\n",
        "load_trained_model(model2, 100)\n",
        "load_trained_model(model3, 100)"
      ]
    },
    {
      "cell_type": "code",
      "execution_count": null,
      "metadata": {},
      "outputs": [],
      "source": [
        "# 테스트 할 모델을 선택해주세요!\n",
        "models = [model1.cpu(), model2.cpu(), model3.cpu()]\n",
        "\n",
        "dataloader = DataLoader(test_dataset, batch_size=1, shuffle=True) \n",
        "\n",
        "class_color = np.array([[255, 255, 255], [11, 190, 255], [7, 86, 251], [110, 0, 255], [236, 56, 131], [255, 134, 58], [0, 255, 94], [121, 59, 255], [173, 255, 59]], np.uint8)\n",
        "\n",
        "for batch in dataloader:\n",
        "    input, label = batch\n",
        "\n",
        "    result = []\n",
        "    \n",
        "    for model in models:\n",
        "        model.eval()\n",
        "\n",
        "        with torch.no_grad(): \n",
        "            pred = torch.argmax(model(input[0].unsqueeze(dim=0)), dim=1).permute(1, 2, 0).numpy().astype(np.uint8).squeeze()\n",
        "            r_label = label[0].numpy().astype(np.uint8)\n",
        "            r_input = input[0].permute(1, 2, 0).numpy().astype(np.uint8)\n",
        "\n",
        "            i_or = np.count_nonzero(cv2.bitwise_or(r_label, pred))\n",
        "            i_and = np.count_nonzero(cv2.bitwise_and(r_label, pred))\n",
        "\n",
        "            #print((i_and / i_or) if i_or != 0 else np.nan)\n",
        "            image_pred = class_color[pred]\n",
        "            image_label = class_color[r_label]\n",
        "\n",
        "            result.append(cv2.hconcat((r_input, image_label, image_pred)))\n",
        "        \n",
        "    cv2.imshow(\"result\", cv2.resize(cv2.vconcat(result), None, fx=0.5, fy=0.5))\n",
        "\n",
        "    cv2.waitKey(0)\n",
        "    cv2.destroyAllWindows()"
      ]
    },
    {
      "cell_type": "code",
      "execution_count": null,
      "metadata": {},
      "outputs": [],
      "source": [
        "cv2.destroyAllWindows()"
      ]
    }
  ],
  "metadata": {
    "colab": {
      "provenance": []
    },
    "kernelspec": {
      "display_name": "Python 3",
      "name": "python3"
    },
    "language_info": {
      "codemirror_mode": {
        "name": "ipython",
        "version": 3
      },
      "file_extension": ".py",
      "mimetype": "text/x-python",
      "name": "python",
      "nbconvert_exporter": "python",
      "pygments_lexer": "ipython3",
      "version": "3.9.18"
    }
  },
  "nbformat": 4,
  "nbformat_minor": 0
}
